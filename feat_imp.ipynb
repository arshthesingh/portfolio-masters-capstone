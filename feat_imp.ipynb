{
 "cells": [
  {
   "cell_type": "code",
   "execution_count": 1,
   "metadata": {},
   "outputs": [
    {
     "name": "stderr",
     "output_type": "stream",
     "text": [
      "/Users/arshsingh/Documents/Montclair/portfolio-masters-capstone/.venv/lib/python3.13/site-packages/tqdm/auto.py:21: TqdmWarning: IProgress not found. Please update jupyter and ipywidgets. See https://ipywidgets.readthedocs.io/en/stable/user_install.html\n",
      "  from .autonotebook import tqdm as notebook_tqdm\n"
     ]
    }
   ],
   "source": [
    "# Import libraries\n",
    "import pandas as pd\n",
    "import numpy as np\n",
    "import matplotlib.pyplot as plt\n",
    "import seaborn as sns\n",
    "\n",
    "import shap\n",
    "from scipy.stats.mstats import winsorize\n",
    "from scipy.stats import shapiro, mannwhitneyu\n",
    "from sklearn.model_selection import train_test_split\n",
    "from sklearn.preprocessing import StandardScaler\n",
    "from sklearn.linear_model import LinearRegression, LogisticRegression\n",
    "from sklearn.ensemble import RandomForestClassifier\n",
    "from sklearn.metrics import (mean_squared_error, r2_score, \n",
    "    classification_report, confusion_matrix, accuracy_score,\n",
    "    roc_curve, auc)"
   ]
  },
  {
   "cell_type": "code",
   "execution_count": 4,
   "metadata": {},
   "outputs": [],
   "source": [
    "# Load the dataset\n",
    "df = pd.read_csv('combined.00-25.csv')"
   ]
  },
  {
   "cell_type": "code",
   "execution_count": 5,
   "metadata": {},
   "outputs": [],
   "source": [
    "# Fill missing/empty 'totalNonCurrentLiabilities' with 'totalLiabilities'\n",
    "df['totalCurrentLiabilities'] = df['totalCurrentLiabilities'].fillna(df['totalLiabilities'])\n",
    "\n",
    "# df.loc[df['totalEquity'] == 0, 'totalEquity'] = (\n",
    "#     df['totalLiabilitiesAndTotalEquity'] - df['totalLiabilities']\n",
    "# )\n",
    "\n",
    "# Creating metrics and ratios.\n",
    "df['totalEquity'] = df['totalLiabilitiesAndTotalEquity'] - df['totalLiabilities']\n",
    "df['currentRatio'] = df['totalCurrentAssets'] / df['totalCurrentLiabilities']\n",
    "df['debtToEquity'] = df['totalDebt'] / df['totalEquity']\n",
    "df['ROE'] = df['netIncome_x'] / df['totalEquity']\n",
    "df['inventoryTurnover'] = df['costOfRevenue'] / df['inventory_x']\n",
    "df['Return'] = df.groupby('symbol_stock')['Adj Close'].pct_change()\n",
    "df['ROA'] = df['netIncome_x'] / df['totalAssets']\n",
    "df['free_cash_flow_yield'] = df['freeCashFlow'] / df['totalEquity']\n",
    "\n",
    "df['Profit_Margin'] = df['netIncome_x'] / df['revenue']\n",
    "df['Op_Cash_Flow_to_Revenue'] = df['operatingCashFlow'] / df['revenue']\n",
    "\n",
    "if 'dividendsPaid' in df.columns and 'netIncome_x' in df.columns:\n",
    "    df['retained_earnings'] = df['netIncome_x'] - df['dividendsPaid']\n",
    "    # Compute a ratio of what fraction of net income is retained.\n",
    "    df['re_ratio'] = df['retained_earnings'] / df['netIncome_x']\n",
    "\n",
    "df['capital_light'] = df['capitalExpenditure'] / df['operatingCashFlow']\n",
    "\n",
    "# df['re_ratio'] = df[ 'retainedEarnings'] / df['netIncome_x']\n",
    "\n",
    "# Metrics after looking at Sector-level correlation\n",
    "df['goodwillIntangible_to_assets'] = df['goodwillAndIntangibleAssets'] / df['totalAssets']\n",
    "df['sellingMarketing_to_revenue'] = df['sellingAndMarketingExpenses'] / df['revenue']\n",
    "df['totalInvestments_to_assets'] = df['totalInvestments'] / df['totalAssets']\n",
    "df['rnd_to_revenue'] = df['researchAndDevelopmentExpenses'] / df['revenue']\n",
    "df['inventory_to_assets'] = df['inventory_x'] / df['totalAssets']"
   ]
  },
  {
   "cell_type": "code",
   "execution_count": 6,
   "metadata": {},
   "outputs": [
    {
     "name": "stdout",
     "output_type": "stream",
     "text": [
      "17\n",
      "17\n"
     ]
    }
   ],
   "source": [
    "# 2. Data Cleaning & Date Conversion\n",
    "# Use 'acceptedDate_x' as the release date of the financial statement.\n",
    "df['accepted_date'] = pd.to_datetime(df['acceptedDate_x'])\n",
    "\n",
    "\n",
    "# Define Future Return Horizon - in days - for the target return.\n",
    "# 365 days for a 1-year return. Change to 3*365 or 5*365\n",
    "horizon_days = 365 * 5\n",
    "\n",
    "# Create a new column that marks the target date from where future return will be calculated.\n",
    "df['target_date'] = df['accepted_date'] + pd.Timedelta(days=horizon_days)\n",
    "\n",
    "df = df.sort_values(by=['symbol_stock', 'accepted_date'])\n",
    "\n",
    "# Attach Future Price Using Merge_asof by creating a separate dataframe containing each company's \n",
    "# accepted_date and Adj Close, then rename columns so it's possible to merge on time.\n",
    "df_prices = df[['symbol_stock', 'accepted_date', 'Adj Close']].rename(\n",
    "    columns={'accepted_date': 'future_date', 'Adj Close': 'future_price'}\n",
    ")\n",
    "\n",
    "df = df.sort_values('target_date')\n",
    "\n",
    "df_prices = df[['symbol_stock', 'accepted_date', 'Adj Close']].rename(\n",
    "    columns={'accepted_date': 'future_date', 'Adj Close': 'future_price'}\n",
    ").sort_values('future_date')\n",
    "\n",
    "print(df['accepted_date'].isnull().sum())\n",
    "print(df['target_date'].isnull().sum())\n",
    "\n",
    "df = df.dropna(subset=['accepted_date'])\n",
    "df['target_date'] = df['accepted_date'] + pd.Timedelta(days=horizon_days)\n",
    "df_prices = df_prices.dropna(subset=['future_date'])\n",
    "\n",
    "df_model = pd.merge_asof(\n",
    "    left=df,\n",
    "    right=df_prices,\n",
    "    left_on='target_date',\n",
    "    right_on='future_date',\n",
    "    by='symbol_stock',\n",
    "    direction='forward'\n",
    ")\n",
    "\n",
    "# Compute Future Return by calculating the percentage return over the horizon.\n",
    "df_model['Return_future'] = (df_model['future_price'] - df_model['Adj Close']) / df_model['Adj Close']\n",
    "\n",
    "# Remove rows where the future price and future return is not available.\n",
    "df_model = df_model.dropna(subset=['Return_future']).copy()\n",
    "\n",
    "# Define the Target Variable by creating a binary target: \n",
    "# label as 1 if the future return is positive (good stock), and 0 otherwise.\n",
    "# df_model['good_stock'] = (df_model['Return_future'] > 0.0825).astype(int)\n",
    "df_model['good_stock'] = (df_model['Return_future'] > 0.25).astype(int)"
   ]
  },
  {
   "cell_type": "code",
   "execution_count": null,
   "metadata": {},
   "outputs": [],
   "source": []
  }
 ],
 "metadata": {
  "kernelspec": {
   "display_name": ".venv",
   "language": "python",
   "name": "python3"
  },
  "language_info": {
   "codemirror_mode": {
    "name": "ipython",
    "version": 3
   },
   "file_extension": ".py",
   "mimetype": "text/x-python",
   "name": "python",
   "nbconvert_exporter": "python",
   "pygments_lexer": "ipython3",
   "version": "3.13.1"
  }
 },
 "nbformat": 4,
 "nbformat_minor": 2
}
